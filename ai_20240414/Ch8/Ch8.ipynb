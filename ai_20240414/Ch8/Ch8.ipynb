{
 "cells": [
  {
   "cell_type": "code",
   "execution_count": 1,
   "metadata": {},
   "outputs": [],
   "source": [
    "from bs4 import BeautifulSoup\n",
    "html='''<a id='a1' class=\"c1\">V1</a>\n",
    "<a id='a2' class=\"c1\">V2</a>\n",
    "<a id='a3' class=\"c3\">V3</a>\n",
    "'''\n",
    "soup = BeautifulSoup(html,\"html5lib\")\n"
   ]
  },
  {
   "cell_type": "code",
   "execution_count": 7,
   "metadata": {},
   "outputs": [
    {
     "name": "stdout",
     "output_type": "stream",
     "text": [
      "Google\n",
      "Google\n",
      "https://google.com\n",
      "https://google.com Google\n",
      "https://yahoo.com Yahoo\n"
     ]
    }
   ],
   "source": [
    "import requests\n",
    "from bs4 import BeautifulSoup\n",
    "html='''<a id='a1' class=\"c1\" href=\"https://google.com\">Google</a>\n",
    "<a id='a2' class=\"c1\"  href=\"https://yahoo.com\">Yahoo</a>\n",
    "<a id='a3' class=\"c3\" href=\"https://facebook.com\">Facebook</a>\n",
    "'''\n",
    "soup = BeautifulSoup(html,\"html5lib\")\n",
    "print(soup.find(id=\"a1\").getText())\n",
    "print(soup.find(id=\"a1\").text)\n",
    "print(soup.find(id=\"a1\").get(\"href\"))\n",
    "tmpList = soup.find_all(class_ = \"c1\")\n",
    "for tag in tmpList:\n",
    "    print(tag.get(\"href\"),tag.text)"
   ]
  },
  {
   "cell_type": "markdown",
   "metadata": {},
   "source": [
    "# 使用html檔案練習"
   ]
  },
  {
   "cell_type": "code",
   "execution_count": 9,
   "metadata": {},
   "outputs": [
    {
     "name": "stdout",
     "output_type": "stream",
     "text": [
      "class與id練習測試h1標籤\n",
      "class與id練習測試h1標籤\n",
      "國家首都資料表\n",
      "h1標籤測試1\n",
      "h1標籤測試2\n",
      "h1標籤測試3\n",
      "h1標籤測試4\n"
     ]
    }
   ],
   "source": [
    "import bs4\n",
    "htmlFile = open('web1.html',encoding=\"utf8\",errors='ignore')\n",
    "objSoup = bs4.BeautifulSoup(htmlFile, 'html5lib')\n",
    "objTag = objSoup.find(\"h1\")\n",
    "print(objTag.text)\n",
    "\n",
    "objTags = objSoup.find_all(\"h1\")\n",
    "for data in objTags:\n",
    "    print(data.text)"
   ]
  },
  {
   "cell_type": "code",
   "execution_count": 10,
   "metadata": {},
   "outputs": [
    {
     "name": "stdout",
     "output_type": "stream",
     "text": [
      "<span class=\"class1\">各種</span>\n"
     ]
    }
   ],
   "source": [
    "import bs4\n",
    "htmlFile = open('web1.html',encoding=\"utf8\",errors='ignore')\n",
    "objSoup = bs4.BeautifulSoup(htmlFile, 'html5lib')\n",
    "objTag = objSoup.find_all(\"span\",class_=\"class1\")\n",
    "for data in objTag:\n",
    "    print(data)"
   ]
  },
  {
   "cell_type": "code",
   "execution_count": 32,
   "metadata": {},
   "outputs": [
    {
     "name": "stdout",
     "output_type": "stream",
     "text": [
      "排名: 1\n",
      "片名: 沙丘：第二部\n",
      "全球票房: $711,844,358\n",
      "\n",
      "排名: 2\n",
      "片名: 哥吉拉與金剛：新帝國\n",
      "全球票房: $566,982,315\n",
      "\n",
      "排名: 3\n",
      "片名: 功夫熊貓4\n",
      "全球票房: $541,859,381\n",
      "\n",
      "排名: 4\n",
      "片名: 熱辣滾燙\n",
      "全球票房: $479,597,304\n",
      "\n",
      "排名: 5\n",
      "片名: 飛馳人生2\n",
      "全球票房: $468,849,262\n",
      "\n",
      "排名: 6\n",
      "片名: 第二十條\n",
      "全球票房: $323,600,000\n",
      "\n",
      "排名: 7\n",
      "片名: 猩球崛起：王國誕生\n",
      "全球票房: $302,312,115\n",
      "\n",
      "排名: 8\n",
      "片名: 熊出沒·逆轉時空\n",
      "全球票房: $271,649,212\n",
      "\n",
      "排名: 9\n",
      "片名: 魔鬼剋星：冰天凍地\n",
      "全球票房: $200,467,547\n",
      "\n",
      "排名: 10\n",
      "片名: 音樂傳奇卜馬利：人生愛與夢\n",
      "全球票房: $179,393,170\n",
      "\n"
     ]
    }
   ],
   "source": [
    "import requests\n",
    "from bs4 import BeautifulSoup\n",
    "url = \"https://zh.wikipedia.org/zh-tw/2024年电影\"\n",
    "resp = requests.get(url)\n",
    "resp.encoding = \"utf-8\"\n",
    "soup = BeautifulSoup(resp.text,\"html5lib\")\n",
    "movieTable = soup.find(\"table\",class_=\"wikitable sortable\")\n",
    "tbodyObj = movieTable.find(\"tbody\")\n",
    "trList = tbodyObj.find_all(\"tr\")\n",
    "for inx in range(1,len(trList)):\n",
    "    print(\"排名:\",trList[inx].find(\"th\").text,end=\"\")\n",
    "    print(\"片名:\",trList[inx].find(\"a\").text)\n",
    "    print(\"全球票房:\",trList[inx].find_all(\"td\")[2].text)\n",
    "    #print(trList[inx])\n",
    "    "
   ]
  },
  {
   "cell_type": "markdown",
   "metadata": {},
   "source": [
    "## Numpy\n",
    "+ 可做到的功能\n",
    "  + 快速的多維陣列操作。\n",
    "  + 可靠的科學功能函數庫。\n",
    "  + 可協助繪圖工具進行繪圖。\n",
    "+ NumPy 是幾乎每個科學 Python 應用程序或模組的核心，它提供了以向量化形式的快速 N-d 陣列類型可供操作。"
   ]
  },
  {
   "cell_type": "code",
   "execution_count": 36,
   "metadata": {},
   "outputs": [
    {
     "name": "stdout",
     "output_type": "stream",
     "text": [
      "<class 'list'>\n",
      "[1, 2, 3, 4, 7, 9, 3, 5, 3, 6, 7, 9]\n",
      "<class 'numpy.ndarray'>\n",
      "[ 4  7  6 10 14 18]\n"
     ]
    }
   ],
   "source": [
    "import numpy as np\n",
    "a= [1,2,3,4,7,9]\n",
    "b= [3,5,3,6,7,9]\n",
    "print(type(a))\n",
    "print(a + b)\n",
    "np1 = np.array(a)\n",
    "np2 = np.array(b)\n",
    "print(type(np1))\n",
    "print(np1 + np2)"
   ]
  },
  {
   "cell_type": "markdown",
   "metadata": {},
   "source": [
    "+ ndarray.ndim\n",
    "   + 維度的數量。\n",
    "+ ndarray.shape\n",
    "   + 顯示出陣列在每個維度上的整數值。\n",
    "+ ndarray.size\n",
    "   + 陣列內元素的總數。\n",
    "+ ndarray.dtype\n",
    "   + 用來描述陣列中元素類型的對象。"
   ]
  },
  {
   "cell_type": "code",
   "execution_count": 42,
   "metadata": {},
   "outputs": [
    {
     "name": "stdout",
     "output_type": "stream",
     "text": [
      "2\n",
      "(2, 3)\n",
      "6\n",
      "int32\n"
     ]
    }
   ],
   "source": [
    "import numpy as np\n",
    "i = [[1,2,3],\n",
    "     [4,5,6] ]\n",
    "a = np.array(i)\n",
    "print(a.ndim)\n",
    "print(a.shape)\n",
    "print(a.size)\n",
    "print(a.dtype)"
   ]
  },
  {
   "cell_type": "markdown",
   "metadata": {},
   "source": [
    "## 陣列初始化與重新規劃\n",
    "+ 針對初始化這部分提供了多種方式：\n",
    "+ 不做初始化\n",
    "   + 例如：np.empty((2,4))\n",
    "+ 全部規劃為 0\n",
    "   + 例如：np.zeros((3,4))\n",
    "+　全部規劃為 1\n",
    "  + np.ones((5,2))\n",
    "+ 全部規劃／填滿為某數，例如 6\n",
    "   + 例如： np.full((3,3),6)\n",
    "+ 建立對角矩陣，對角皆為 1，其他為 0\n",
    "   + 例如： np.eye(3)\n",
    "+ 建立對角矩陣，對角為 1,2,3,4，其他為 0\n",
    "   + 例如： np.diag([1,2,3,4])\n",
    "+ reshape((x,y)) 這個指令就可以將現有的陣列  重新規劃為 x 乘以 y 的陣列。 \n",
    "+ np.arange(起始值, 結束值, 固定間隔)：也是產生一維陣列，和 np.array( ) 的差別在於 arange 擁有較大的彈性，而且元素數值是自動化產生。\n",
    "+ np.linspace(起始值, 結束值, 起始與結束的區間內要產生幾個元素 )：只要給定陣列的區間(起始值、結束值)，就可以要求在這個區間內產生幾個元素。\n",
    "+ arange(a,b,c)\n",
    "   + 不包含 b 由 a 開始 以固定間隔 c 來取值\n",
    "+ linspace(a,b,c,)\n",
    "   + 包含 b 由 a 開始 切割成 c 個資料\n",
    "+ linspace(a,b,c,endpoint=False)\n",
    "   + 不包含 b 由 a 開始 切割成 c 個資料"
   ]
  },
  {
   "cell_type": "code",
   "execution_count": 49,
   "metadata": {},
   "outputs": [
    {
     "name": "stdout",
     "output_type": "stream",
     "text": [
      "[6 7 8 9]\n",
      "[0 1 2 3]\n",
      "[6 6 6 6]\n",
      "[0 1 4 9]\n",
      "[False  True False False  True]\n",
      "[5 1 3 9 1]\n"
     ]
    }
   ],
   "source": [
    "import numpy as np\n",
    "a = np.array([6,7,8,9])\n",
    "b = np.arange(4)\n",
    "print(a)\n",
    "print(b)\n",
    "c = a - b\n",
    "print(c)\n",
    "d = b**2\n",
    "print(d)\n",
    "f = np.array([5,-1,3,9,0])\n",
    "print(f < 3)\n",
    "f[f < 3] = 1\n",
    "print(f)"
   ]
  },
  {
   "cell_type": "code",
   "execution_count": 66,
   "metadata": {},
   "outputs": [
    {
     "name": "stdout",
     "output_type": "stream",
     "text": [
      "[[1. 1. 1. 1.]\n",
      " [1. 1. 1. 1.]]\n",
      "[[0. 0. 0. 0.]\n",
      " [0. 0. 0. 0.]]\n",
      "[[1. 1. 1. 1.]\n",
      " [1. 1. 1. 1.]]\n",
      "[[2. 2. 2. 2.]\n",
      " [2. 2. 2. 2.]]\n"
     ]
    }
   ],
   "source": [
    "import numpy as np\n",
    "x = np.empty((2,4))\n",
    "print(x)\n",
    "z = np.zeros((2,4))\n",
    "print(z)\n",
    "one = np.ones((2,4))\n",
    "print(one)\n",
    "print(one*2)"
   ]
  },
  {
   "cell_type": "code",
   "execution_count": 68,
   "metadata": {},
   "outputs": [
    {
     "name": "stdout",
     "output_type": "stream",
     "text": [
      "[[1. 0. 0.]\n",
      " [0. 1. 0.]\n",
      " [0. 0. 1.]]\n",
      "[[7 0 0 0 0]\n",
      " [0 8 0 0 0]\n",
      " [0 0 9 0 0]\n",
      " [0 0 0 1 0]\n",
      " [0 0 0 0 5]]\n"
     ]
    }
   ],
   "source": [
    "import numpy as np\n",
    "x = np.eye(3)\n",
    "print(x)\n",
    "y = np.diag([7,8,9,1,5])\n",
    "print(y)"
   ]
  },
  {
   "cell_type": "code",
   "execution_count": 81,
   "metadata": {},
   "outputs": [
    {
     "name": "stdout",
     "output_type": "stream",
     "text": [
      "[ 1.   2.8  4.6  6.4  8.2 10. ]\n",
      "[ 2.   3.6  5.2  6.8  8.4 10. ]\n",
      "1.6\n"
     ]
    }
   ],
   "source": [
    "import numpy as np\n",
    "x = np.linspace(1,10,6)#(10-1)/(6-1)\n",
    "print(x)\n",
    "x = np.linspace(2,10,6)#(10-2)/(6-1)\n",
    "print(x)\n",
    "print((10-2)/(6-1))\n",
    "\n"
   ]
  },
  {
   "cell_type": "code",
   "execution_count": 85,
   "metadata": {},
   "outputs": [
    {
     "name": "stdout",
     "output_type": "stream",
     "text": [
      "(6,)\n",
      "(2, 3)\n",
      "[ 1.   2.8  4.6  6.4  8.2 10. ]\n",
      "[[ 1.   2.8  4.6]\n",
      " [ 6.4  8.2 10. ]]\n"
     ]
    }
   ],
   "source": [
    "import numpy as np\n",
    "x = np.linspace(1,10,6)\n",
    "a = x.reshape((2,3))\n",
    "print(x.shape)\n",
    "print(a.shape)\n",
    "print(x)\n",
    "print(a)"
   ]
  },
  {
   "cell_type": "markdown",
   "metadata": {},
   "source": [
    "## 陣列指定位置取值\n",
    "+ 間隔選取 [::c]\n",
    "  + 以 1 維陣列來說明 x[a:b:c]\n",
    "  + a：選取資料的起始索引\n",
    "  + b：選取資料的結束索引 +1\n",
    "  + c：選取資料間隔，以索引值可以被此值整除的元素，不指定表示 1\n",
    "+ 倒序 [::-1]\n",
    "  + 只是單純的把順序反過來"
   ]
  },
  {
   "cell_type": "markdown",
   "metadata": {},
   "source": [
    "## 陣列指定位置-給予一個整數\n",
    "+ 關於指定位置  [row,column]\n",
    "+ 假設給予一個整數為 N\n",
    " + 如果是給固定的 N，那就代表 row 或 column 等於 N。\n",
    " + 如果是 N：，那就代表 row 或 column 大於等於 N 的區域。\n",
    " + 如果是：N，那就代表 row 或 column 小於 N 的區域。 \n",
    " + 如果是：，那就代表 row 或 column 是任意欄位。"
   ]
  },
  {
   "cell_type": "code",
   "execution_count": 97,
   "metadata": {},
   "outputs": [
    {
     "name": "stdout",
     "output_type": "stream",
     "text": [
      "[[1 2 3]\n",
      " [4 5 6]\n",
      " [7 8 9]]\n",
      "[1 2 3]\n",
      "2\n",
      "2\n",
      "8\n"
     ]
    }
   ],
   "source": [
    "import numpy as np\n",
    "a = np.arange(1,10).reshape((3,3))\n",
    "print(a)\n",
    "print(a[0])\n",
    "print(a[0][1])\n",
    "print(a[0,1])\n",
    "print(a[2,1])"
   ]
  },
  {
   "cell_type": "code",
   "execution_count": 105,
   "metadata": {},
   "outputs": [
    {
     "name": "stdout",
     "output_type": "stream",
     "text": [
      "[[1 2 3]\n",
      " [4 5 6]\n",
      " [7 8 9]]\n",
      "[2 5 8]\n",
      "[7 8 9]\n"
     ]
    }
   ],
   "source": [
    "import numpy as np\n",
    "a = np.arange(1,10).reshape((3,3))\n",
    "print(a)\n",
    "a2 = a[:,1]\n",
    "print(a2)\n",
    "a3 = a[2,:]\n",
    "print(a3)"
   ]
  },
  {
   "cell_type": "code",
   "execution_count": 110,
   "metadata": {},
   "outputs": [
    {
     "name": "stdout",
     "output_type": "stream",
     "text": [
      "[[1 2 3]\n",
      " [4 5 6]\n",
      " [7 8 9]]\n",
      "======================================================================\n",
      "[[2 3]\n",
      " [5 6]]\n",
      "======================================================================\n",
      "[[4 5]\n",
      " [7 8]]\n"
     ]
    }
   ],
   "source": [
    "import numpy as np\n",
    "a = np.arange(1,10).reshape((3,3))\n",
    "print(a)\n",
    "print(\"=\"*70)\n",
    "print(a[:2,1:])\n",
    "print(\"=\"*70)\n",
    "print(a[1:,:2])"
   ]
  },
  {
   "cell_type": "code",
   "execution_count": 121,
   "metadata": {},
   "outputs": [
    {
     "name": "stdout",
     "output_type": "stream",
     "text": [
      "[[ 0  1  2  3  4  5]\n",
      " [ 6  7  8  9 10 11]\n",
      " [12 13 14 15 16 17]\n",
      " [18 19 20 21 22 23]\n",
      " [24 25 26 27 28 29]\n",
      " [30 31 32 33 34 35]]\n",
      "-----1\n",
      "[3 4]\n",
      "-----2\n",
      "[[28 29]\n",
      " [34 35]]\n",
      "-----2-2\n",
      "[[28 29]\n",
      " [34 35]]\n",
      "---3--\n",
      "[[ 0  1  2]\n",
      " [ 6  7  8]\n",
      " [12 13 14]]\n",
      "---4--\n",
      "[ 2  8 14 20 26 32]\n"
     ]
    }
   ],
   "source": [
    "import numpy as np\n",
    "a=np.arange(0,36).reshape((6,6))\n",
    "print(a)\n",
    "\n",
    "\"\"\"----1\n",
    "[3,4]\n",
    "\"\"\"\n",
    "print(\"-----1\")\n",
    "print(a[0,3:5])\n",
    "\"\"\" ---2\n",
    "[[28 29]\n",
    " [34 35]]\n",
    "\"\"\"\n",
    "print(\"-----2\")\n",
    "print(a[4:,4:])\n",
    "print(\"-----2-2\")\n",
    "print(a[-2:,-2:])\n",
    "\"\"\"\n",
    "---3--\n",
    "[[ 0  1  2]\n",
    " [ 6  7  8]\n",
    " [12 13 14]]\n",
    " \"\"\"\n",
    "print(\"---3--\")\n",
    "print(a[:3,:3])\n",
    "\"\"\"\n",
    "---4--\n",
    "[ 2  8 14 20 26 32]\n",
    "\"\"\"\n",
    "print(\"---4--\")\n",
    "print(a[:,2])"
   ]
  },
  {
   "cell_type": "markdown",
   "metadata": {},
   "source": [
    "## 重設新陣列\n",
    "+ resize 這個動作會依據原本的陣列再設定指定大小的新陣列。 \n",
    "+ resize 動作的參數如下：\n",
    "+ numpy.resize(arr1，shape1)\n",
    "  + arr1：原本的陣列\n",
    "  + shape1：新規劃的大小\n",
    "+ 如果規劃的新陣列比較大，將會重新複製原有陣列的資料，填滿新的儲存格。\n",
    "+ resize 這個動作***建立新的陣列***，而 reshape 則是依據原有的重新規劃，仍會受到原有陣列影響。\n",
    "+ transpose()轉置"
   ]
  },
  {
   "cell_type": "code",
   "execution_count": 130,
   "metadata": {},
   "outputs": [
    {
     "name": "stdout",
     "output_type": "stream",
     "text": [
      "(2, 3)\n",
      "\n"
     ]
    },
    {
     "ename": "ValueError",
     "evalue": "cannot reshape array of size 6 into shape (10,10)",
     "output_type": "error",
     "traceback": [
      "\u001b[1;31m---------------------------------------------------------------------------\u001b[0m",
      "\u001b[1;31mValueError\u001b[0m                                Traceback (most recent call last)",
      "Cell \u001b[1;32mIn[130], line 6\u001b[0m\n\u001b[0;32m      4\u001b[0m \u001b[38;5;28mprint\u001b[39m(a\u001b[38;5;241m.\u001b[39mshape)\n\u001b[0;32m      5\u001b[0m \u001b[38;5;28mprint\u001b[39m()\n\u001b[1;32m----> 6\u001b[0m b \u001b[38;5;241m=\u001b[39m a\u001b[38;5;241m.\u001b[39mreshape(\u001b[38;5;241m10\u001b[39m,\u001b[38;5;241m10\u001b[39m)\n\u001b[0;32m      7\u001b[0m \u001b[38;5;28mprint\u001b[39m(b)\n\u001b[0;32m      8\u001b[0m \u001b[38;5;28mprint\u001b[39m(b\u001b[38;5;241m.\u001b[39mshape)\n",
      "\u001b[1;31mValueError\u001b[0m: cannot reshape array of size 6 into shape (10,10)"
     ]
    }
   ],
   "source": [
    "import numpy as np\n",
    "a = np.array([[1,2,3],\n",
    "              [4,5,6]])\n",
    "print(a.shape)\n",
    "print()\n",
    "b = a.reshape(3,2)\n",
    "print(b)\n",
    "print(b.shape)\n",
    "\n",
    "print(\"=======a==========\")\n",
    "a[0,1] = 100\n",
    "print(a)\n",
    "print(\"=======b==========\")\n",
    "print(b)"
   ]
  },
  {
   "cell_type": "markdown",
   "metadata": {},
   "source": [
    "### resize"
   ]
  },
  {
   "cell_type": "code",
   "execution_count": 131,
   "metadata": {},
   "outputs": [
    {
     "name": "stdout",
     "output_type": "stream",
     "text": [
      "(2, 3)\n",
      "\n",
      "[[1 2]\n",
      " [3 4]\n",
      " [5 6]]\n",
      "[[1 2]\n",
      " [3 4]\n",
      " [5 6]]\n",
      "[[  1 100   3   4   5   6   1 100   3   4]\n",
      " [  5   6   1 100   3   4   5   6   1 100]\n",
      " [  3   4   5   6   1 100   3   4   5   6]\n",
      " [  1 100   3   4   5   6   1 100   3   4]\n",
      " [  5   6   1 100   3   4   5   6   1 100]\n",
      " [  3   4   5   6   1 100   3   4   5   6]\n",
      " [  1 100   3   4   5   6   1 100   3   4]\n",
      " [  5   6   1 100   3   4   5   6   1 100]\n",
      " [  3   4   5   6   1 100   3   4   5   6]\n",
      " [  1 100   3   4   5   6   1 100   3   4]]\n"
     ]
    }
   ],
   "source": [
    "import numpy as np\n",
    "a = np.array([[1,2,3],\n",
    "              [4,5,6]])\n",
    "print(a.shape)\n",
    "print()\n",
    "b = np.resize(a,(3,2))\n",
    "print(b)\n",
    "a[0,1] = 100\n",
    "print(b)\n",
    "c= np.resize(a,(10,10))\n",
    "print(c)"
   ]
  },
  {
   "cell_type": "markdown",
   "metadata": {},
   "source": [
    "### transpose"
   ]
  },
  {
   "cell_type": "code",
   "execution_count": 138,
   "metadata": {},
   "outputs": [
    {
     "name": "stdout",
     "output_type": "stream",
     "text": [
      "[[0 1 2 3 4]\n",
      " [5 6 7 8 9]]\n",
      "[[0 5]\n",
      " [1 6]\n",
      " [2 7]\n",
      " [3 8]\n",
      " [4 9]]\n",
      "[[0 5]\n",
      " [1 6]\n",
      " [2 7]\n",
      " [3 8]\n",
      " [4 9]]\n",
      "[[0 5]\n",
      " [1 6]\n",
      " [2 7]\n",
      " [3 8]\n",
      " [4 9]]\n"
     ]
    }
   ],
   "source": [
    "import numpy as np\n",
    "newArray = np.arange(10).reshape(2,5)\n",
    "print(newArray)\n",
    "print(newArray.transpose())\n",
    "print(newArray.T)\n",
    "tArray = newArray.T\n",
    "print(tArray)"
   ]
  },
  {
   "cell_type": "markdown",
   "metadata": {},
   "source": [
    "## 讀存檔案\n",
    "+ 可使用 np.loadtxt( ) 方法進行檔案的讀取。\n",
    "+ 若不需要讀入第一列，可使用 skiprows=1 來忽略第一列。\n",
    "+ 若我們的資料是利用 ‘,’ 當作資料與資料之間的分格符號，可使用 delimiter=‘ , ’ 設定，預設為空白。\n",
    "+ 若設定 unpack=True 代表可以將 Column 分別切出來 (預設為False)。\n",
    "+ 但是，當我們欲要讀的檔案，裡面有遺失值的時候，loadtxt 這個動作將會產生錯誤。\n",
    "loadtxt( ) 必須是在每一 row 都有相同數量的 value 下，才可以使用。\n",
    "  + 建議改用 genfromtxt( ) 方法 ，它可以針對遺失值進行處理。\n",
    "  + 參數加上 filling_values 可以把原本缺失的資料補上指定的資料。\n",
    "+ 可利用 savetxt( ) 將資料存進檔案裡面保存。\n",
    "+ genfromtxt 可透過 skip_header=1  參數忽略第一列。\n",
    "+ 碰到遺失值的處理：\n",
    "  + loadtxt 碰到遺失值會產生錯誤。\n",
    "  + genfromtxt 碰到遺失值會以 nan 來表示。\n",
    "+ genfromtxt 進行存取時：\n",
    "  + 資料預設為浮點數(科學記數法)，所以建議儲存的時候以 fmt 進行格式設定。\n",
    "  + 開啟時若資料為整數，請加入 dtype 設定為 int。"
   ]
  },
  {
   "cell_type": "code",
   "execution_count": 144,
   "metadata": {},
   "outputs": [
    {
     "name": "stdout",
     "output_type": "stream",
     "text": [
      "[[0.2 0.1]\n",
      " [0.4 0.3]\n",
      " [0.1 0.6]\n",
      " [0.1 0.3]\n",
      " [0.5 0.3]]\n",
      "<class 'numpy.ndarray'>\n",
      "value1: [0.2 0.4 0.1 0.1 0.5]\n",
      "value2: [0.1 0.3 0.6 0.3 0.3]\n",
      "y > z: [ True  True False False  True]\n",
      "[0.2 0.4 0.5]\n"
     ]
    }
   ],
   "source": [
    "import numpy as np\n",
    "x = np.loadtxt(\"data1.csv\",delimiter=\",\")\n",
    "print(x)\n",
    "print(type(x))\n",
    "y,z = np.loadtxt(\"data1.csv\",delimiter=\",\",unpack=True)\n",
    "print(\"y:\",y)\n",
    "print(\"z:\",z)\n",
    "print(\"y > z:\",y > z)\n",
    "n = y[y > z]\n",
    "print(n)"
   ]
  },
  {
   "cell_type": "markdown",
   "metadata": {},
   "source": [
    "## 總和最大與最小\n",
    "+ np.sum( ) 代表某一個陣列內容的總和，也可以指定這個陣列的哪一軸 (axis) 內容總和。\n",
    "+ np.min( ) 代表某一個陣列內容的最小值，也可以指定這個陣列的哪一軸 (axis) 內容的最小值。\n",
    "+ np.max( ) 代表某一個陣列內容的最大值，也可以指定這個陣列的哪一軸 (axis) 內容的最大值。\n",
    "+ amin 與 min 是相同功能的方法。\n",
    "+ amax 與 max 是相同功能的方法。"
   ]
  },
  {
   "cell_type": "markdown",
   "metadata": {},
   "source": [
    "### 總和sum()"
   ]
  },
  {
   "cell_type": "code",
   "execution_count": 149,
   "metadata": {},
   "outputs": [
    {
     "name": "stdout",
     "output_type": "stream",
     "text": [
      "[[ 0 30 45]\n",
      " [60 75 90]]\n",
      "300\n",
      "[ 60 105 135]\n",
      "[ 75 225]\n"
     ]
    }
   ],
   "source": [
    "import numpy as np\n",
    "a = np.array([[0, 30,45],\n",
    "              [60,75,90]])\n",
    "print(a)\n",
    "b = np.sum(a)\n",
    "print(b)\n",
    "b = np.sum(a,axis=0)\n",
    "print(b)\n",
    "b = np.sum(a,axis=1)\n",
    "print(b)"
   ]
  },
  {
   "cell_type": "code",
   "execution_count": null,
   "metadata": {},
   "outputs": [
    {
     "name": "stdout",
     "output_type": "stream",
     "text": [
      "(2, 3)\n",
      "\n",
      "[[1 2]\n",
      " [3 4]\n",
      " [5 6]]\n",
      "(3, 2)\n",
      "=======a==========\n",
      "[[1 2 3]\n",
      " [4 5 6]]\n",
      "=======b==========\n",
      "[[1 2]\n",
      " [3 4]\n",
      " [5 6]]\n"
     ]
    }
   ],
   "source": [
    "import numpy as np\n",
    "a = np.array([[1,2,3],\n",
    "              [4,5,6]])\n",
    "print(a.shape)\n",
    "print()\n",
    "b = a.reshape(3,2)\n",
    "print(b)\n",
    "print(b.shape)\n",
    "\n",
    "print(\"=======a==========\")\n",
    "print(a)\n",
    "a[0,1] = 100\n",
    "print(\"=======b==========\")\n",
    "print(b)"
   ]
  },
  {
   "cell_type": "markdown",
   "metadata": {},
   "source": [
    "### max() min()"
   ]
  },
  {
   "cell_type": "code",
   "execution_count": 154,
   "metadata": {},
   "outputs": [
    {
     "name": "stdout",
     "output_type": "stream",
     "text": [
      "[[ 0 30 45]\n",
      " [60 75 90]]\n",
      "90\n",
      "[60 75 90]\n",
      "[45 90]\n"
     ]
    }
   ],
   "source": [
    "import numpy as np\n",
    "a = np.array([[0, 30,45],\n",
    "              [60,75,90]])\n",
    "print(a)\n",
    "b = np.max(a)\n",
    "print(b)\n",
    "bi = np.max(a,axis=0)\n",
    "print(bi)\n",
    "bi = np.max(a,axis=1)\n",
    "print(bi)"
   ]
  },
  {
   "cell_type": "markdown",
   "metadata": {},
   "source": [
    "## 中位數與平均\n",
    "+ median( ) 方法可取出陣列或陣列中指定的軸之中位數。\n",
    "+ 把所有值高低排序後找出正中間的一個作爲中位數。如果資料數量為偶數，則中位數取最中間的兩個數值的平均數。\n",
    "+ 參數：\n",
    "  + array：陣列\n",
    "  + axis：軸\n",
    "+ mean( ) 方法可取出陣列或陣列中指定的軸之平均數。\n",
    "+ 平均值就是把陣列或指定軸的所有資料除以數量後的數值。\n",
    "+ 參數：\n",
    "    + array：陣列 \n",
    "    + axis：軸\n",
    "+ average( ) 方法與 mean( ) 方法相似，但可以加入權重進行計算。\n",
    "+ 計算公式為 ((資料*權重)相加)/(權重相加)\n",
    "+ 參數：\n",
    "  + array：陣列\n",
    "  + axis：軸\n",
    "  + weights：權重，若沒有則設定為 1\n",
    "  + returned：若設定為 true，代表返回計算結果跟權重相加總合兩筆資料，若沒有設定或設定  false 則只有計算結果 \n",
    "+ 沒有指定權重時與一般平均值相同。\n",
    "+ 加權平均值是由每個資料乘以權重以反映加上重要性因素後產生的平均值。\n",
    "+ average( ) 使用時若沒有指定軸，則陣列將被平坦化。\n",
    "+ 假設有個陣列資料為 [1,2,3,4]，相應的權重 [40,30,20,10]，加權平均數是這樣：\n",
    "    (1x40+2x30+3x20+4x10)/(40+30+20+10)"
   ]
  },
  {
   "cell_type": "code",
   "execution_count": 157,
   "metadata": {},
   "outputs": [
    {
     "name": "stdout",
     "output_type": "stream",
     "text": [
      "50.0\n",
      "[30.  52.5 67.5]\n",
      "[25. 75.]\n"
     ]
    }
   ],
   "source": [
    "import numpy as np\n",
    "a = np.array([[0, 30,45],\n",
    "              [60,75,90]])\n",
    "b = np.mean(a)\n",
    "print(b)\n",
    "b = np.mean(a,axis=0)\n",
    "print(b)\n",
    "b = np.mean(a,axis=1)\n",
    "print(b)"
   ]
  },
  {
   "cell_type": "code",
   "execution_count": 158,
   "metadata": {},
   "outputs": [
    {
     "name": "stdout",
     "output_type": "stream",
     "text": [
      "2.5\n",
      "\n",
      "2.0\n",
      "\n",
      "(2.0, 10.0)\n",
      "\n"
     ]
    }
   ],
   "source": [
    "import numpy as np\n",
    "a = np.array([1,2,3,4])\n",
    "b=np.average(a)\n",
    "print(b)\n",
    "print( )\n",
    "wts = np.array([4,3,2,1])\n",
    "b=np.average(a,weights = wts)\n",
    "print(b)\n",
    "print( )\n",
    "b=np.average([1,2,3,4],weights = [4,3,2,1], returned = True)\n",
    "#(1*4+2*3+3*2+4*1)/(4+3+2+1)  \n",
    "# 20/10  = 2\n",
    "#4+3+2+1 = 10\n",
    "#\n",
    "print(b)\n",
    "print()"
   ]
  },
  {
   "cell_type": "markdown",
   "metadata": {},
   "source": [
    "## 中位數"
   ]
  },
  {
   "cell_type": "code",
   "execution_count": 162,
   "metadata": {},
   "outputs": [
    {
     "name": "stdout",
     "output_type": "stream",
     "text": [
      "[[ 0 30 45]\n",
      " [60 75 90]]\n",
      "52.5\n",
      "[30.  52.5 67.5]\n",
      "[30. 75.]\n"
     ]
    }
   ],
   "source": [
    "import numpy as np\n",
    "a = np.array([[0, 30,45],[60,75,90]])\n",
    "print(a)\n",
    "b = np.median(a)\n",
    "print(b)\n",
    "b = np.median(a,axis=0)\n",
    "print(b)\n",
    "b = np.median(a,axis=1)\n",
    "print(b)"
   ]
  },
  {
   "cell_type": "markdown",
   "metadata": {},
   "source": [
    "## 變異數與標準差\n",
    "+ 變異數代表所有資料到平均數的距離之平方。\n",
    "+ 標準差代表變異數開平方根，也就是可依此表示資料的分散程度。\n",
    "+ var( ) 代表由陣列取得變異數的方法。\n",
    "+ std( ) 代表由陣列取得標準差的方法。\n",
    "\n",
    "+ 定義：\n",
    "\n",
    "+ 變異數代表((每一個資料-平均值)平方後的加總結果)/總個數。\n",
    "\n",
    "+ 標準差是變異數的開根號結果。"
   ]
  },
  {
   "cell_type": "code",
   "execution_count": 167,
   "metadata": {},
   "outputs": [
    {
     "name": "stdout",
     "output_type": "stream",
     "text": [
      "1.25\n",
      "1.118033988749895\n"
     ]
    }
   ],
   "source": [
    "import numpy as np\n",
    "a = np.array([1,2,3,4])\n",
    "b = np.var(a)#變異數\n",
    "print(b)\n",
    "b = np.std(a)#標準差\n",
    "print(b)"
   ]
  },
  {
   "cell_type": "code",
   "execution_count": null,
   "metadata": {},
   "outputs": [],
   "source": []
  }
 ],
 "metadata": {
  "kernelspec": {
   "display_name": "base",
   "language": "python",
   "name": "python3"
  },
  "language_info": {
   "codemirror_mode": {
    "name": "ipython",
    "version": 3
   },
   "file_extension": ".py",
   "mimetype": "text/x-python",
   "name": "python",
   "nbconvert_exporter": "python",
   "pygments_lexer": "ipython3",
   "version": "3.11.7"
  }
 },
 "nbformat": 4,
 "nbformat_minor": 2
}
