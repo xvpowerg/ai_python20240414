{
 "cells": [
  {
   "cell_type": "markdown",
   "id": "c8a39d74-25ba-4667-ad5d-01959d8d8c34",
   "metadata": {},
   "source": [
    "## 作業\n",
    "\n",
    "設計錢包總金額為 1000 元，\n",
    "\n",
    "如果購買商品總金額超過 1000 \n",
    "\n",
    "會引發一個金額不足的例外 OverflowError"
   ]
  },
  {
   "cell_type": "code",
   "execution_count": 5,
   "id": "7cce8454-bb84-401b-973d-89b9df5ef046",
   "metadata": {},
   "outputs": [
    {
     "name": "stdout",
     "output_type": "stream",
     "text": [
      "消費項目 A\n",
      "消費金額 500\n",
      "消費項目 B\n",
      "消費金額 200\n",
      "消費項目 C\n",
      "消費金額 400\n"
     ]
    },
    {
     "name": "stdout",
     "output_type": "stream",
     "text": [
      "超支\n"
     ]
    }
   ],
   "source": [
    "sum = 0\n",
    "dirc1 = {}\n",
    "while True:\n",
    "    item = input(\"消費項目\")\n",
    "    price = int(input(\"消費金額\"))\n",
    "    try: \n",
    "        if sum + price > 1000:\n",
    "            raise OverflowError\n",
    "        dirc1[item] = price\n",
    "        sum += price\n",
    "    except:\n",
    "         print(\"超支\")\n",
    "         break"
   ]
  },
  {
   "cell_type": "markdown",
   "id": "e6c552cc-e563-4879-bd0f-9e6325242611",
   "metadata": {},
   "source": [
    "## 物件導向入門"
   ]
  },
  {
   "cell_type": "code",
   "execution_count": 11,
   "id": "49010748-9c63-4700-9196-450e3d39f65d",
   "metadata": {},
   "outputs": [
    {
     "name": "stdout",
     "output_type": "stream",
     "text": [
      "<__main__.Employee object at 0x0000015FF5B16A50>\n",
      "Name: Ken  Salary: 50000\n"
     ]
    },
    {
     "ename": "AttributeError",
     "evalue": "'Employee' object has no attribute 'name'",
     "output_type": "error",
     "traceback": [
      "\u001b[1;31m---------------------------------------------------------------------------\u001b[0m",
      "\u001b[1;31mAttributeError\u001b[0m                            Traceback (most recent call last)",
      "Cell \u001b[1;32mIn[11], line 9\u001b[0m\n\u001b[0;32m      7\u001b[0m \u001b[38;5;28mprint\u001b[39m(\u001b[38;5;124m\"\u001b[39m\u001b[38;5;124mName:\u001b[39m\u001b[38;5;124m\"\u001b[39m,emp\u001b[38;5;241m.\u001b[39mname,\u001b[38;5;124m\"\u001b[39m\u001b[38;5;124m Salary:\u001b[39m\u001b[38;5;124m\"\u001b[39m,emp\u001b[38;5;241m.\u001b[39msalary)\n\u001b[0;32m      8\u001b[0m emp2 \u001b[38;5;241m=\u001b[39m Employee()\n\u001b[1;32m----> 9\u001b[0m \u001b[38;5;28mprint\u001b[39m(emp2\u001b[38;5;241m.\u001b[39mname)\n\u001b[0;32m     10\u001b[0m \u001b[38;5;28mprint\u001b[39m(emp2\u001b[38;5;241m.\u001b[39msalary)\n",
      "\u001b[1;31mAttributeError\u001b[0m: 'Employee' object has no attribute 'name'"
     ]
    }
   ],
   "source": [
    "class Employee:\n",
    "    pass\n",
    "emp = Employee()\n",
    "print(emp)\n",
    "emp.name = \"Ken\"\n",
    "emp.salary = 50000\n",
    "print(\"Name:\",emp.name,\" Salary:\",emp.salary)\n",
    "emp2 = Employee()\n",
    "print(emp2.name)\n",
    "print(emp2.salary)"
   ]
  },
  {
   "cell_type": "code",
   "execution_count": 14,
   "id": "1eb05187-e7d9-4149-9bfb-808e075cbcf8",
   "metadata": {},
   "outputs": [
    {
     "name": "stdout",
     "output_type": "stream",
     "text": [
      "Ken 50000\n",
      "Vivin 60000\n"
     ]
    }
   ],
   "source": [
    "class Employee:\n",
    "    def __init__(self,name,salary):\n",
    "        self.name = name\n",
    "        self.salary = salary\n",
    "emp1 = Employee(\"Ken\",50000)\n",
    "print(emp1.name,emp1.salary)\n",
    "emp2 = Employee(\"Vivin\",60000)\n",
    "print(emp2.name,emp2.salary)"
   ]
  },
  {
   "cell_type": "code",
   "execution_count": 18,
   "id": "5850d215-a352-40a1-abb9-8213d850d18c",
   "metadata": {},
   "outputs": [
    {
     "name": "stdout",
     "output_type": "stream",
     "text": [
      "Ken 0 0\n",
      "Vivin 100 0\n",
      "Lucy 75 88\n"
     ]
    }
   ],
   "source": [
    "class Student:\n",
    "    def __init__(self,name,score1 = 0 ,score2 = 0):\n",
    "        self.name = name\n",
    "        self.score1 = score1\n",
    "        self.score2 = score2\n",
    "st1 = Student(\"Ken\")\n",
    "print(st1.name,st1.score1,st1.score2)\n",
    "st2 = Student(\"Vivin\",100)\n",
    "print(st2.name,st2.score1,st2.score2)\n",
    "st3 = Student(\"Lucy\",75,88)\n",
    "print(st3.name,st3.score1,st3.score2)"
   ]
  },
  {
   "cell_type": "code",
   "execution_count": 23,
   "id": "e3381416-2e09-44e7-b967-a40090bc2980",
   "metadata": {},
   "outputs": [
    {
     "name": "stdout",
     "output_type": "stream",
     "text": [
      "Company GJ FirstName: Ken  LastName: Le\n",
      "Company GJ FirstName: Iris  LastName: AA\n"
     ]
    }
   ],
   "source": [
    "class Person:\n",
    "    company = \"\"\n",
    "    def __init__(self,firstName,lastName):\n",
    "        self.firstName = firstName\n",
    "        self.lastName = lastName\n",
    "    def printInfo(self):\n",
    "        print(\"Company\",Person.company,\"FirstName:\",self.firstName,\" LastName:\",self.lastName)\n",
    "Person.company=\"GJ\"        \n",
    "p1 = Person(\"Ken\",\"Le\")        \n",
    "p1.printInfo()\n",
    "p2 = Person(\"Iris\",'AA')\n",
    "p2.printInfo()"
   ]
  },
  {
   "cell_type": "code",
   "execution_count": 62,
   "id": "aa47095a-c936-4f86-aac6-5becc22d5598",
   "metadata": {},
   "outputs": [
    {
     "name": "stdout",
     "output_type": "stream",
     "text": [
      "Company  FirstName: Ken  LastName: Le\n",
      "Company GJ2 FirstName: Iris  LastName: AA\n",
      "Titile:GJ2\n"
     ]
    }
   ],
   "source": [
    "class Person:\n",
    "    company = \"\"\n",
    "    def __init__(self,firstName,lastName):\n",
    "        self.firstName = firstName\n",
    "        self.lastName = lastName\n",
    "    def printInfo(self):\n",
    "        print(\"Company\",Person.company,\"FirstName:\",self.firstName,\" LastName:\",self.lastName)\n",
    "    @classmethod    \n",
    "    def setCompany(cls,company): \n",
    "        cls.company = company\n",
    "    @classmethod\n",
    "    def getCompany(cls):        \n",
    "        return \"Titile:\"+cls.company\n",
    "           \n",
    "p1 = Person(\"Ken\",\"Le\")        \n",
    "p1.printInfo()\n",
    "Person.setCompany(\"GJ2\")\n",
    "p2 = Person(\"Iris\",'AA')\n",
    "p2.printInfo()\n",
    "print(Person.getCompany())"
   ]
  },
  {
   "cell_type": "markdown",
   "id": "8cb8e625-a650-45cd-8480-075de4f09af8",
   "metadata": {},
   "source": [
    "## 繼承"
   ]
  },
  {
   "cell_type": "code",
   "execution_count": 32,
   "id": "5b949e34-4783-45e8-afd4-d4838d8b0ca2",
   "metadata": {},
   "outputs": [
    {
     "name": "stdout",
     "output_type": "stream",
     "text": [
      "Bobo 5\n"
     ]
    }
   ],
   "source": [
    "class Animal:\n",
    "    def __init__(self,name,age):\n",
    "        self.name = name\n",
    "        self.age = age\n",
    "    def printInfo(self):\n",
    "        print(self.name,self.age)\n",
    "an = Animal(\"Bobo\",5)        \n",
    "an.printInfo()"
   ]
  },
  {
   "cell_type": "code",
   "execution_count": 35,
   "id": "246fdfc7-2726-4a2a-a870-6a85943df291",
   "metadata": {},
   "outputs": [
    {
     "name": "stdout",
     "output_type": "stream",
     "text": [
      "Kitty 18\n",
      "Bobo 10\n"
     ]
    }
   ],
   "source": [
    "class Cat(Animal):\n",
    "    pass\n",
    "class Dog(Animal):    \n",
    "    pass\n",
    "cat1 = Cat(\"Kitty\",18)    \n",
    "dog1 = Dog(\"Bobo\",10)\n",
    "cat1.printInfo()\n",
    "dog1.printInfo()"
   ]
  },
  {
   "cell_type": "code",
   "execution_count": 42,
   "id": "ca3fe1d3-dcf5-4000-933f-8e6503ba0e6f",
   "metadata": {},
   "outputs": [
    {
     "name": "stdout",
     "output_type": "stream",
     "text": [
      "Cat: Kitty 18\n",
      "Dog: Bobo 10\n"
     ]
    }
   ],
   "source": [
    "class Cat(Animal):\n",
    "    def printInfo(self):\n",
    "        print(\"Cat:\",self.name,self.age)\n",
    "class Dog(Animal):    \n",
    "    def printInfo(self):\n",
    "        print(\"Dog:\",end=\" \")\n",
    "        #super()父類別的\n",
    "        super().printInfo()\n",
    "cat1 = Cat(\"Kitty\",18)    \n",
    "dog1 = Dog(\"Bobo\",10)\n",
    "cat1.printInfo()\n",
    "dog1.printInfo()"
   ]
  },
  {
   "cell_type": "code",
   "execution_count": 82,
   "id": "25a0641b-697b-4a78-9236-7e726b900b99",
   "metadata": {},
   "outputs": [
    {
     "name": "stdout",
     "output_type": "stream",
     "text": [
      "Bobo 跑\n",
      "Bobo 吃\n",
      "Bird1 飛\n",
      "Bird1跑\n",
      "DoDo 跑\n",
      "height: 25 M1 跑\n",
      "25\n"
     ]
    }
   ],
   "source": [
    "class Animal:\n",
    "    def __init__(self,name,age = 10):\n",
    "        self.name = name\n",
    "        self.age = age\n",
    "    def run(self):\n",
    "        print(self.name,\"跑\")\n",
    "    def eat(self):        \n",
    "        print(self.name,\"吃\")\n",
    "class Bird1(Animal):\n",
    "    def fly(self):\n",
    "        print(\"Bird1 飛\")\n",
    "    def run(self):\n",
    "        print(\"Bird1跑\")\n",
    "        super().run()\n",
    "class Monkey(Animal): \n",
    "    def __init__(self,name,age = 0,height=0):\n",
    "        self.height = height\n",
    "        super().__init__(name,age)\n",
    "    def run(self):\n",
    "        print(\"height:\", self.height,end = \" \")\n",
    "        super().run()\n",
    "        \n",
    "a1 = Animal(\"Bobo\",5)\n",
    "a1.run()\n",
    "a1.eat()\n",
    "b1 = Bird1(\"DoDo\",2)\n",
    "b1.fly()\n",
    "b1.run()\n",
    "\n",
    "m1 = Monkey(\"M1\",3,25)\n",
    "m1.run()\n",
    "print(m1.height)"
   ]
  },
  {
   "cell_type": "markdown",
   "id": "f164934f-b55c-42b6-acce-d1d1dc75e214",
   "metadata": {},
   "source": [
    "## 多重繼承與初始化方法\n",
    "### 多重繼承\n",
    "+ 繼承多個父類別時用，隔開\n",
    "+ 注意成員搜尋的順序\n",
    "  + 從子類別開始\n",
    "  + 同一階層父類別由左至右搜尋\n",
    "  + 更上層祖父類別由左至右搜尋\n",
    "  + 直到達到頂層為止"
   ]
  },
  {
   "cell_type": "code",
   "execution_count": 72,
   "id": "b08a24f8-dc2b-4386-a833-cb449f086233",
   "metadata": {},
   "outputs": [
    {
     "name": "stdout",
     "output_type": "stream",
     "text": [
      "C.method4\n",
      "A.method3\n",
      "B.method2\n",
      "S.method1\n"
     ]
    }
   ],
   "source": [
    "class S():\n",
    "    def method1(self):\n",
    "        print(\"S.method1\")\n",
    "    def method2(self):        \n",
    "        print(\"S.method2\")\n",
    "class A(S):        \n",
    "    def method3(self):\n",
    "        print(\"A.method3\")\n",
    "class B(S):\n",
    "    def method2(self):\n",
    "        print(\"B.method2\")\n",
    "    def method3(self):\n",
    "        print(\"B.method3\")\n",
    "class C(A,B):\n",
    "    def method4(self):\n",
    "        print(\"C.method4\")\n",
    "c = C()\n",
    "c.method4()\n",
    "c.method3()\n",
    "c.method2()\n",
    "c.method1()"
   ]
  },
  {
   "cell_type": "code",
   "execution_count": 102,
   "id": "103508ae-6bfa-47e5-b78d-a0486d1f07e6",
   "metadata": {},
   "outputs": [
    {
     "name": "stdout",
     "output_type": "stream",
     "text": [
      "C.method4\n",
      "A.method3\n",
      "S.method2\n",
      "B.method1\n"
     ]
    }
   ],
   "source": [
    "class S():\n",
    "    def method1(self):\n",
    "        print(\"S.method1\")\n",
    "    def method2(self):        \n",
    "        print(\"S.method2\")\n",
    "class K():\n",
    "    def method1(self):\n",
    "        print(\"K.method1\")\n",
    "    def method5(self):        \n",
    "        print(\"K.method5\")        \n",
    "class A(K):        \n",
    "    def method3(self):\n",
    "        print(\"A.method3\")\n",
    "class B(S):\n",
    "    def method1(self):\n",
    "        print(\"B.method1\")\n",
    "    def method3(self):\n",
    "        print(\"B.method3\")\n",
    "class C(A,B):\n",
    "    def method4(self):\n",
    "        print(\"C.method4\")\n",
    "c = C()\n",
    "c.method4()\n",
    "c.method3()\n",
    "c.method2()\n",
    "c.method1()"
   ]
  },
  {
   "cell_type": "markdown",
   "id": "11dc3684-8774-4413-8ff8-a3038f9ef4f6",
   "metadata": {},
   "source": [
    "## $ __str__  $可輸出物件的內容"
   ]
  },
  {
   "cell_type": "code",
   "execution_count": 83,
   "id": "69e4c89e-047d-4789-965d-69bea7d008a0",
   "metadata": {},
   "outputs": [
    {
     "name": "stdout",
     "output_type": "stream",
     "text": [
      "<__main__.Point object at 0x0000015FF600D4D0>\n",
      "<__main__.Point object at 0x0000015FF71E2C10>\n"
     ]
    }
   ],
   "source": [
    "class Point:\n",
    "    def __init__(self,x=0,y=0):\n",
    "        self.x = x\n",
    "        self.y = y\n",
    "p1 = Point(2,3)        \n",
    "p2 = Point(-1,2)        \n",
    "print(p1)\n",
    "print(p2)\n"
   ]
  },
  {
   "cell_type": "code",
   "execution_count": 92,
   "id": "6c160e3a-ef2a-4f71-964c-e2d2798ecde3",
   "metadata": {},
   "outputs": [
    {
     "name": "stdout",
     "output_type": "stream",
     "text": [
      "(2,3)\n",
      "(-1,2)\n"
     ]
    }
   ],
   "source": [
    "class Point:\n",
    "    def __init__(self,x=0,y=0):\n",
    "        self.x = x\n",
    "        self.y = y\n",
    "    def __str__(self):    \n",
    "        return f\"({self.x},{self.y})\"\n",
    "p1 = Point(2,3)        \n",
    "p2 = Point(-1,2)        \n",
    "print(p1)\n",
    "print(p2)\n"
   ]
  },
  {
   "cell_type": "markdown",
   "id": "8b0d3e0e-95ba-446a-bae7-dd1a9d31f54c",
   "metadata": {},
   "source": [
    "``` python\n",
    "__add__  +\n",
    "\n",
    "__iadd__  +=\n",
    "\n",
    "__sub__  -\n",
    "\n",
    "__isub__  -=\n",
    "\n",
    "__mul__  *\n",
    "\n",
    "__imul__  *=\n",
    "\n",
    "__truediv__   /\n",
    "\n",
    "__itruediv__   /=\n",
    "\n",
    "__floordiv__  //\n",
    "\n",
    "__ifloordiv__  //=\n",
    "\n",
    "__mod__  %\n",
    "\n",
    "__imod__  %=\n",
    "\n",
    "__pow__  **\n",
    "\n",
    "__ipow__  **=\n",
    "```"
   ]
  },
  {
   "cell_type": "code",
   "execution_count": 97,
   "id": "4f77b3e7-858d-4aaa-9865-b732681da82b",
   "metadata": {},
   "outputs": [
    {
     "name": "stdout",
     "output_type": "stream",
     "text": [
      "(2,3)\n",
      "(-1,2)\n",
      "(1,5)\n"
     ]
    }
   ],
   "source": [
    "class Point:\n",
    "    def __init__(self,x=0,y=0):\n",
    "        self.x = x\n",
    "        self.y = y\n",
    "    def __str__(self):    \n",
    "        return f\"({self.x},{self.y})\"\n",
    "    def __add__(self,other):    \n",
    "        x = self.x + other.x\n",
    "        y = self.y + other.y\n",
    "        return Point(x,y)\n",
    "p1 = Point(2,3)        \n",
    "p2 = Point(-1,2)        \n",
    "print(p1)\n",
    "print(p2)\n",
    "print(p1 + p2)"
   ]
  },
  {
   "cell_type": "code",
   "execution_count": 123,
   "id": "e0dbdfe1-bd87-48ee-b5af-4d2daf6a7abe",
   "metadata": {},
   "outputs": [
    {
     "name": "stdout",
     "output_type": "stream",
     "text": [
      "(2,3)\n",
      "(-1,2)\n",
      "13\n",
      "(-1,2)\n",
      "(2,3)\n",
      "False\n",
      "False\n",
      "True\n",
      "True\n"
     ]
    }
   ],
   "source": [
    "class Point:\n",
    "    def __init__(self,x=0,y=0):\n",
    "        self.x = x\n",
    "        self.y = y\n",
    "    def __str__(self):    \n",
    "        return f\"({self.x},{self.y})\"\n",
    "    def __add__(self,other):    \n",
    "        x = self.x + other.x\n",
    "        y = self.y + other.y\n",
    "        return Point(x,y)\n",
    "    def __len__(self):\n",
    "        myLen = (self.x ** 2 ) + (self.y ** 2 ) \n",
    "        return myLen   \n",
    "    def __lt__(self,other):\n",
    "        len1 = len(self)\n",
    "        len2 = len(other)\n",
    "        return len1 < len2\n",
    "    def __eq__(self,other):\n",
    "        len1 = len(self)\n",
    "        len2 = len(other)\n",
    "        return len1 == len2\n",
    "p1 = Point(2,3) \n",
    "p2 = Point(-1,2) \n",
    "p3 = Point(2,3) \n",
    "print(p1)\n",
    "print(p2)  \n",
    "print(len(p1))\n",
    "\n",
    "pointList = [p1,p2]\n",
    "pointList.sort()            \n",
    "for p in pointList:\n",
    "    print(p)\n",
    "    \n",
    "print(p1 < p3)    \n",
    "print(p1 > p3)   \n",
    "print(p1 > p2) \n",
    "print(p1 == p3) "
   ]
  },
  {
   "cell_type": "markdown",
   "id": "7b7cd273-b75f-459a-9323-e91faf5c5b6f",
   "metadata": {},
   "source": [
    "## 模組"
   ]
  },
  {
   "cell_type": "code",
   "execution_count": 2,
   "id": "90a0e495-6acf-4441-8569-bc1cc85078b2",
   "metadata": {},
   "outputs": [
    {
     "name": "stdout",
     "output_type": "stream",
     "text": [
      "Test!!\n"
     ]
    }
   ],
   "source": [
    "print(\"Test!!\")"
   ]
  },
  {
   "cell_type": "code",
   "execution_count": 4,
   "id": "6e653b0c",
   "metadata": {},
   "outputs": [
    {
     "name": "stdout",
     "output_type": "stream",
     "text": [
      "Func1\n"
     ]
    }
   ],
   "source": [
    "import modu\n",
    "modu.func1()"
   ]
  },
  {
   "cell_type": "code",
   "execution_count": null,
   "id": "3981bd72",
   "metadata": {},
   "outputs": [],
   "source": []
  }
 ],
 "metadata": {
  "kernelspec": {
   "display_name": "Python 3 (ipykernel)",
   "language": "python",
   "name": "python3"
  },
  "language_info": {
   "codemirror_mode": {
    "name": "ipython",
    "version": 3
   },
   "file_extension": ".py",
   "mimetype": "text/x-python",
   "name": "python",
   "nbconvert_exporter": "python",
   "pygments_lexer": "ipython3",
   "version": "3.11.7"
  }
 },
 "nbformat": 4,
 "nbformat_minor": 5
}
